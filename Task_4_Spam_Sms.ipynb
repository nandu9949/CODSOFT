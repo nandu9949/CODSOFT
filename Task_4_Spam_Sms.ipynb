{
  "nbformat": 4,
  "nbformat_minor": 0,
  "metadata": {
    "colab": {
      "provenance": []
    },
    "kernelspec": {
      "name": "python3",
      "display_name": "Python 3"
    },
    "language_info": {
      "name": "python"
    }
  },
  "cells": [
    {
      "cell_type": "markdown",
      "source": [
        "# Spam Sms Detection"
      ],
      "metadata": {
        "id": "F2d5q5jHf8PU"
      }
    },
    {
      "cell_type": "code",
      "source": [
        "import numpy as np\n",
        "import pandas as pd\n",
        "import matplotlib.pyplot as plt\n",
        "import re\n",
        "import string\n",
        "import nltk\n",
        "from sklearn.feature_extraction.text import TfidfVectorizer\n",
        "from sklearn.model_selection import train_test_split\n",
        "from sklearn.naive_bayes import MultinomialNB\n",
        "from sklearn.linear_model import LogisticRegression\n",
        "from sklearn.svm import SVC\n",
        "from sklearn.metrics import accuracy_score, classification_report"
      ],
      "metadata": {
        "id": "Xeg66jyygB8b"
      },
      "execution_count": 1,
      "outputs": []
    },
    {
      "cell_type": "code",
      "source": [
        "df = pd.read_csv('/content/spam.csv', encoding='ISO-8859-1')"
      ],
      "metadata": {
        "id": "xcHYtQ_CgUdg"
      },
      "execution_count": 3,
      "outputs": []
    },
    {
      "cell_type": "code",
      "source": [
        "df = df.iloc[:,:2]\n",
        "df.columns = ['label','text']\n",
        "df['label'] = df['label'].map({'ham':0, 'spam':1})"
      ],
      "metadata": {
        "colab": {
          "base_uri": "https://localhost:8080/"
        },
        "id": "O-TUBIsSgZij",
        "outputId": "dcfd052e-dbe9-41a8-8448-af3b60513003"
      },
      "execution_count": 4,
      "outputs": [
        {
          "output_type": "stream",
          "name": "stderr",
          "text": [
            "<ipython-input-4-9fa0b5610b91>:3: SettingWithCopyWarning: \n",
            "A value is trying to be set on a copy of a slice from a DataFrame.\n",
            "Try using .loc[row_indexer,col_indexer] = value instead\n",
            "\n",
            "See the caveats in the documentation: https://pandas.pydata.org/pandas-docs/stable/user_guide/indexing.html#returning-a-view-versus-a-copy\n",
            "  df['label'] = df['label'].map({'ham':0, 'spam':1})\n"
          ]
        }
      ]
    },
    {
      "cell_type": "code",
      "source": [
        "print(df.columns)"
      ],
      "metadata": {
        "colab": {
          "base_uri": "https://localhost:8080/"
        },
        "id": "AGYK1ptfkjNl",
        "outputId": "b3762e7d-0c95-42d6-c1e7-614da58fb7d0"
      },
      "execution_count": 5,
      "outputs": [
        {
          "output_type": "stream",
          "name": "stdout",
          "text": [
            "Index(['label', 'text'], dtype='object')\n"
          ]
        }
      ]
    },
    {
      "cell_type": "code",
      "source": [
        "def preprocess_text(text):\n",
        "  text = text.lower()\n",
        "  text = re.sub(f\"[{string.punctuation}]\",'',text)\n",
        "  text = re.sub(r'\\d+','',text)\n",
        "  text = re.sub(r'\\s+', ' ', text).strip()\n",
        "  return text\n"
      ],
      "metadata": {
        "id": "_Y9lrPHrhA7d"
      },
      "execution_count": 10,
      "outputs": []
    },
    {
      "cell_type": "code",
      "source": [
        "df['text'] = df['text'].apply(preprocess_text)"
      ],
      "metadata": {
        "id": "wyUbIpSbiCRW"
      },
      "execution_count": 11,
      "outputs": []
    },
    {
      "cell_type": "code",
      "source": [
        "vectorizer = TfidfVectorizer()\n",
        "X = vectorizer.fit_transform(df['text'])\n",
        "y = df['label']"
      ],
      "metadata": {
        "id": "JuqMwoLUibMr"
      },
      "execution_count": 12,
      "outputs": []
    },
    {
      "cell_type": "code",
      "source": [
        "X_train, X_test, y_train, y_test = train_test_split(X, y, test_size=0.2, random_state=2)"
      ],
      "metadata": {
        "id": "4okiF59diisV"
      },
      "execution_count": 13,
      "outputs": []
    },
    {
      "cell_type": "code",
      "source": [
        "models = {\n",
        "    'Naive Bayes': MultinomialNB(),\n",
        "    'Logistic Regression': LogisticRegression(),\n",
        "    'SVM': SVC(kernel='linear')\n",
        "}"
      ],
      "metadata": {
        "id": "weiKOzoti-oU"
      },
      "execution_count": 14,
      "outputs": []
    },
    {
      "cell_type": "code",
      "source": [
        "best_model = None\n",
        "best_accuracy = 0\n",
        "\n",
        "for name, model in models.items():\n",
        "  model.fit(X_train,y_train)\n",
        "  y_pred = model.predict(X_test)\n",
        "  acc = accuracy_score(y_test,y_pred)\n",
        "  print(f\"{name}Accuracy:{acc:.4f}\")\n",
        "\n",
        "  if acc>best_accuracy:\n",
        "    best_accuracy = acc\n",
        "    best_model = model\n",
        "print(f\"Best model: {best_model} with accuracy {best_accuracy:.4f}\")\n",
        ""
      ],
      "metadata": {
        "colab": {
          "base_uri": "https://localhost:8080/"
        },
        "id": "BJpcRji-jEUm",
        "outputId": "394f3864-e6bd-43a3-80a3-7508991ca4df"
      },
      "execution_count": 15,
      "outputs": [
        {
          "output_type": "stream",
          "name": "stdout",
          "text": [
            "Naive BayesAccuracy:0.9444\n",
            "Logistic RegressionAccuracy:0.9534\n",
            "SVMAccuracy:0.9704\n",
            "Best model: SVC(kernel='linear') with accuracy 0.9704\n"
          ]
        }
      ]
    },
    {
      "cell_type": "code",
      "source": [
        "def predict_sms(message):\n",
        "  processed_message = preprocess_text(message)\n",
        "  message_vector = vectorizer.transform([processed_message])\n",
        "  prediction = best_model.predict(message_vector)\n",
        "  return \"Spam\" if prediction[0] == 1 else \"Ham\"\n",
        "\n",
        "sms = input(\"enter an sms message :\")\n",
        "print('prediction', predict_sms(sms))"
      ],
      "metadata": {
        "colab": {
          "base_uri": "https://localhost:8080/"
        },
        "id": "WjHTVgRKlkqK",
        "outputId": "0f8b832f-5e6e-4df2-98f9-91682cff495d"
      },
      "execution_count": 17,
      "outputs": [
        {
          "output_type": "stream",
          "name": "stdout",
          "text": [
            "enter an sms message :hello how are you\n",
            "prediction Ham\n"
          ]
        }
      ]
    }
  ]
}